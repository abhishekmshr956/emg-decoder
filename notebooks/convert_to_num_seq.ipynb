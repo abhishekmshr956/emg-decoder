{
 "cells": [
  {
   "cell_type": "code",
   "execution_count": 2,
   "id": "66646603",
   "metadata": {},
   "outputs": [],
   "source": [
    "from random import shuffle \n",
    "import numpy as np \n",
    "\n",
    "class_nums = [1,2,4,5, ' ']\n",
    "keytofinger = {'a': class_nums[0], 'b': class_nums[0], 'c': class_nums[0], 'd': class_nums[0], 'e': class_nums[0], 'f': class_nums[0], 'g': class_nums[0],\n",
    "                    'h': class_nums[1], 'i': class_nums[1], 'j': class_nums[1], 'k': class_nums[1], 'l': class_nums[1], 'm': class_nums[1], 'n': class_nums[1], 'o': class_nums[1],\n",
    "                    'p': class_nums[2], 'q': class_nums[2], 'r': class_nums[2], 's': class_nums[2], 't': class_nums[2], ',' : class_nums[2],\n",
    "                    'u': class_nums[3], 'v': class_nums[3], 'w': class_nums[3], 'x': class_nums[3], 'y': class_nums[3], 'z': class_nums[3], '.': class_nums[3],\n",
    "                    ' ': class_nums[4]\n",
    "            }\n",
    "phrase_corpus = open(\"phrases2.txt\").read().splitlines()\n",
    "def key_distribution(sentence):\n",
    "    histogram = [0,0,0,0,0,0]\n",
    "    \n",
    "    keytofinger = {'a': class_nums[0], 'b': class_nums[0], 'c': class_nums[0], 'd': class_nums[0], 'e': class_nums[0], 'f': class_nums[0], 'g': class_nums[0],\n",
    "                    'h': class_nums[1], 'i': class_nums[1], 'j': class_nums[1], 'k': class_nums[1], 'l': class_nums[1], 'm': class_nums[1], 'n': class_nums[1], 'o': class_nums[1],\n",
    "                    'p': class_nums[2], 'q': class_nums[2], 'r': class_nums[2], 's': class_nums[2], 't': class_nums[2], ',' : class_nums[2],\n",
    "                    'u': class_nums[3], 'v': class_nums[3], 'w': class_nums[3], 'x': class_nums[3], 'y': class_nums[3], 'z': class_nums[3], '.': class_nums[3],\n",
    "                    ' ': class_nums[4]\n",
    "            }\n",
    "    num_text = \"\"\n",
    "\n",
    "    sentence = sentence.lower()\n",
    "    \n",
    "    for i in sentence:\n",
    "        if isinstance(keytofinger[i], int): \n",
    "            histogram[keytofinger[i]] = histogram[keytofinger[i]]+1\n",
    "    histogram = np.array(histogram)\n",
    "    return histogram"
   ]
  },
  {
   "cell_type": "code",
   "execution_count": 54,
   "id": "b66616b9",
   "metadata": {},
   "outputs": [],
   "source": [
    "sentence_num = 3"
   ]
  },
  {
   "cell_type": "code",
   "execution_count": 55,
   "id": "10345206",
   "metadata": {},
   "outputs": [],
   "source": [
    "# day1_indices = [i for i in range(10)]\n",
    "max_len_indices = [2, 14, 16, 18, 27, 53, 63, 66, 72, 99]"
   ]
  },
  {
   "cell_type": "code",
   "execution_count": 56,
   "id": "706a5614",
   "metadata": {},
   "outputs": [
    {
     "name": "stdout",
     "output_type": "stream",
     "text": [
      "please provide your date of birth\n",
      "421141 4425211 5254 1141 21 12442 PRESS_SPACE_TO_END\n",
      "33  characters\n",
      "[10  7  0  8  3]  key distribution\n"
     ]
    }
   ],
   "source": [
    "#### for sentence_num in range(8):\n",
    "\n",
    "text = phrase_corpus[max_len_indices[sentence_num]].lower()\n",
    "print(text)\n",
    "num_text = \"\"\n",
    "\n",
    "for i in text:\n",
    "    num_text += str(keytofinger[i])\n",
    "\n",
    "print(num_text+' PRESS_SPACE_TO_END')\n",
    "print(len(num_text), ' characters')\n",
    "print(key_distribution(text)[1:], ' key distribution')\n"
   ]
  },
  {
   "cell_type": "markdown",
   "id": "96be4390",
   "metadata": {},
   "source": [
    "#### Online Recalibration Text Generation "
   ]
  },
  {
   "cell_type": "code",
   "execution_count": 165,
   "id": "d7b6a188",
   "metadata": {},
   "outputs": [
    {
     "name": "stdout",
     "output_type": "stream",
     "text": [
      "There will be  300  characters in this recalibration experiment.\n",
      "1412255 25 125 4511222 244254 55541 51552 2142225 54 411455 44425 55 52 41155 244 415411125 12 14 51 4425 455151114121422515 24 224215112542 22 52 22 254 2545 1154 52 412 55 14 54552 1225 22411 2541 44 154512 42 4152 55514 151 2441 4441 541 21125 11 4441 2124 24 2122 44 42 512 55 425 11 51 44 141214\n"
     ]
    }
   ],
   "source": [
    "# generating a random offline recalibration string \n",
    "\n",
    "char_num = 60\n",
    "print('There will be ', char_num*5, ' characters in this recalibration experiment.')\n",
    "# randomize fingers\n",
    "recal_string = list(\"1245\")*char_num\n",
    "shuffle(recal_string)\n",
    "# add spaces but make sure not contiguous\n",
    "space_indices = np.sort(np.random.choice(np.arange(1,3*char_num-1), char_num, False))\n",
    "space_indices = space_indices+np.arange(char_num)\n",
    "space_indices = np.flip(space_indices)\n",
    "for i in space_indices: \n",
    "    recal_string.insert(i, ' ')\n",
    "print(''.join(recal_string))\n",
    "\n"
   ]
  },
  {
   "cell_type": "code",
   "execution_count": 43,
   "id": "1a887c2a",
   "metadata": {},
   "outputs": [
    {
     "name": "stdout",
     "output_type": "stream",
     "text": [
      "[   0 3901 4123    0 2946 1129]\n"
     ]
    }
   ],
   "source": [
    "for sentence_num in range(500): \n",
    "    sentence = phrase_corpus[sentence_num]\n",
    "    if sentence_num == 0: \n",
    "        histogram = key_distribution(sentence)\n",
    "    else:\n",
    "        histogram = histogram + key_distribution(sentence)\n",
    "print(histogram)"
   ]
  },
  {
   "cell_type": "code",
   "execution_count": 42,
   "id": "58c7dbfc",
   "metadata": {},
   "outputs": [
    {
     "data": {
      "text/plain": [
       "array([2, 4])"
      ]
     },
     "execution_count": 42,
     "metadata": {},
     "output_type": "execute_result"
    }
   ],
   "source": [
    "thing = np.array([1,2])\n",
    "thing + thing"
   ]
  },
  {
   "cell_type": "code",
   "execution_count": 40,
   "id": "22f3e4de",
   "metadata": {},
   "outputs": [
    {
     "name": "stdout",
     "output_type": "stream",
     "text": [
      "26\n",
      "29\n",
      "33\n",
      "29\n",
      "30\n"
     ]
    }
   ],
   "source": [
    "strings_8_26 = [\"my watch fell in the water\"\n",
    ",\"prevailing wind from the east\"\n",
    ",\"never too rich and never too thin\"\n",
    ",\"I can see the rings on Saturn\"\n",
    ",\"physics and chemistry are hard\"]\n",
    "\n",
    "for string in strings_8_26: \n",
    "    print(len(string))"
   ]
  },
  {
   "cell_type": "code",
   "execution_count": null,
   "id": "e60752f5",
   "metadata": {},
   "outputs": [],
   "source": []
  }
 ],
 "metadata": {
  "kernelspec": {
   "display_name": "Python 3 (ipykernel)",
   "language": "python",
   "name": "python3"
  },
  "language_info": {
   "codemirror_mode": {
    "name": "ipython",
    "version": 3
   },
   "file_extension": ".py",
   "mimetype": "text/x-python",
   "name": "python",
   "nbconvert_exporter": "python",
   "pygments_lexer": "ipython3",
   "version": "3.10.12"
  }
 },
 "nbformat": 4,
 "nbformat_minor": 5
}
