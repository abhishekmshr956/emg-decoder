{
 "cells": [
  {
   "cell_type": "code",
   "execution_count": 1,
   "id": "7a6c7e58",
   "metadata": {},
   "outputs": [
    {
     "name": "stderr",
     "output_type": "stream",
     "text": [
      "/home/john/.local/lib/python3.10/site-packages/pkg_resources/__init__.py:123: PkgResourcesDeprecationWarning: 1.1build1 is an invalid version and will not be supported in a future release\n",
      "  warnings.warn(\n",
      "/home/john/.local/lib/python3.10/site-packages/pkg_resources/__init__.py:123: PkgResourcesDeprecationWarning: 1.12.1-git20200711.33e2d80-dfsg1-0.6 is an invalid version and will not be supported in a future release\n",
      "  warnings.warn(\n"
     ]
    }
   ],
   "source": [
    "import numpy as np\n",
    "import torch\n",
    "import matplotlib.pyplot as plt\n",
    "from sklearn.model_selection import train_test_split\n",
    "from sklearn.metrics import confusion_matrix, ConfusionMatrixDisplay\n",
    "\n",
    "from src.data.key_dataset import remove_overlaps, select_keys, create_windows, KeyDataset\n",
    "from src.data.filter import Filter\n",
    "\n",
    "from src.data.utils import bipolar_conversion, load_data, key_counts, load_data_deprecated\n",
    "from src.visualization.visualize import layout\n",
    "from src.utils import load_config\n",
    "from src.models.keydecoder import KeyDecoder\n",
    "from src.models.train import train\n",
    "from src.models.utils import Experiment\n",
    "\n",
    "import importlib\n",
    "import operator\n",
    "from functools import reduce"
   ]
  },
  {
   "cell_type": "code",
   "execution_count": 41,
   "id": "b5443bc4",
   "metadata": {},
   "outputs": [],
   "source": [
    "filter_params = {}\n",
    "fn = filter_params.get('fn', [60, 120, 180, 60, 300, 240])\n",
    "qs = filter_params.get('qs', [10, 5, 2, 4, 2, 2])\n",
    "fc = filter_params.get('fc', (10, 1000))\n",
    "fs = filter_params.get('fs', 4000)\n",
    "filt = Filter(fn, qs, fc=fc, butterworth_type='bandpass', order=4, sampling_freq=fs)"
   ]
  },
  {
   "cell_type": "code",
   "execution_count": 84,
   "id": "74cb7bd5",
   "metadata": {},
   "outputs": [],
   "source": [
    "data_dir = \"/home/john/rumi/data/\"\n",
    "\n",
    "#expt_names = [\"Shreyas-Kaasyap_2023-08-04-1255_Open-Loop-Typing-Task\",\n",
    "#              \"Shreyas-Kaasyap_2023-07-31-1407_Open-Loop-Typing-Task\",\n",
    "#              \"Shreyas-Kaasyap_2023-08-01-1528_Open-Loop-Typing-Task\"]\n",
    "\n",
    "#expt_names = [\"Nima-Hadidi_2023-09-26-1649_Gesture-Decoding-Task\"]\n",
    "# expt_names = [\"NIma_2023-08-31-1833_Gesture-Decoding-Task\"]\n",
    "#expt_names = [\"Nima_2023-08-25-2008_Gesture-Decoding-Task\"]\n",
    "#expt_names = [\"Shreyas-Kaasyap_2023-08-24-1437_Open-Loop-Typing-Task\"]\n",
    "#expt_names = [\"Shreyas_2023-08-24-1709_Open-Loop-Typing-Task\"]\n",
    "#expt_names = [\"Shreyas_2023-08-28-1546_Open-Loop-Typing-Task\"]\n",
    "\n",
    "#expt_names = [\"Shreyas_2023-08-29-1604_Open-Loop-Typing-Task\"]\n",
    "#expt_names = [\"Jaco_2023-10-24-1911_Open-Loop-Typing-Task\"]\n",
    "expt_name = \"Jacob_2023-10-30-1748_Closed-Loop-Typing-Task\"\n",
    "\n",
    "emg_fname = data_dir + expt_name + \"/data_streams/emg_stream.bin\"\n",
    "\n",
    "emg_data = load_data(emg_fname)\n",
    "emg_names = ['emgbuffer'] + list(emg_data.dtype.names)[1:]\n",
    "emg_data.dtype.names = emg_names\n",
    "        \n",
    "        #print(key_data[key_data['keybuffer'][:, 0] != 0])\n",
    "\n",
    "emg_stream = emg_data['emgbuffer'][:, 1:33]\n",
    "bp_emg_stream = bipolar_conversion(emg_stream, offset=2, grid_type=[\"8-8-L-1\"])\n",
    "filtered_emg_stream = filt.filter_data(bp_emg_stream)"
   ]
  },
  {
   "cell_type": "code",
   "execution_count": 85,
   "id": "c29611da",
   "metadata": {},
   "outputs": [
    {
     "name": "stdout",
     "output_type": "stream",
     "text": [
      "(445845, 16)\n"
     ]
    }
   ],
   "source": [
    "print(filtered_emg_stream.shape)"
   ]
  },
  {
   "cell_type": "code",
   "execution_count": 88,
   "id": "e7872e39",
   "metadata": {},
   "outputs": [
    {
     "data": {
      "text/plain": [
       "[<matplotlib.lines.Line2D at 0x7f74de970970>]"
      ]
     },
     "execution_count": 88,
     "metadata": {},
     "output_type": "execute_result"
    },
    {
     "data": {
      "image/png": "[encoded data removed]",
      "text/plain": [
       "<Figure size 432x288 with 1 Axes>"
      ]
     },
     "metadata": {
      "needs_background": "light"
     },
     "output_type": "display_data"
    }
   ],
   "source": [
    "y = filtered_emg_stream[:300000, 0]\n",
    "x = np.arange(0, y.shape[0])\n",
    "plt.plot(x, y)"
   ]
  },
  {
   "cell_type": "code",
   "execution_count": 87,
   "id": "07c94c0b",
   "metadata": {},
   "outputs": [
    {
     "data": {
      "text/plain": [
       "1.8576875000000002"
      ]
     },
     "execution_count": 87,
     "metadata": {},
     "output_type": "execute_result"
    }
   ],
   "source": [
    "(445845/4000)/60"
   ]
  },
  {
   "cell_type": "code",
   "execution_count": null,
   "id": "434dd47e",
   "metadata": {},
   "outputs": [],
   "source": []
  }
 ],
 "metadata": {
  "kernelspec": {
   "display_name": "Python 3 (ipykernel)",
   "language": "python",
   "name": "python3"
  },
  "language_info": {
   "codemirror_mode": {
    "name": "ipython",
    "version": 3
   },
   "file_extension": ".py",
   "mimetype": "text/x-python",
   "name": "python",
   "nbconvert_exporter": "python",
   "pygments_lexer": "ipython3",
   "version": "3.10.12"
  }
 },
 "nbformat": 4,
 "nbformat_minor": 5
}
